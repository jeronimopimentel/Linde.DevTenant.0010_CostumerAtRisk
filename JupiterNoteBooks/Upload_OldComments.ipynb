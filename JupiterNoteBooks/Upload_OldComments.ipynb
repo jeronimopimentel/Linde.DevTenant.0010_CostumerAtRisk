{
 "cells": [
  {
   "cell_type": "code",
   "execution_count": 1,
   "metadata": {},
   "outputs": [
    {
     "name": "stdout",
     "output_type": "stream",
     "text": [
      "Upload of last_month_clientlist to DIGITAL_PH_DEV schema: car_cl completed\n",
      "Upload of last_month_clientlist to DIGITAL_PH_DEV schema: car_ar completed\n",
      "Upload of last_month_clientlist to DIGITAL_PH_DEV schema: car_pe completed\n",
      "Upload of last_month_clientlist to DIGITAL_PH_DEV schema: car_bo completed\n",
      "Upload of last_month_clientlist to DIGITAL_PH_DEV schema: car_py FAILED\n",
      "Upload of last_month_clientlist to DIGITAL_PH_DEV schema: car_uy completed\n"
     ]
    }
   ],
   "source": [
    "# Libraries\n",
    "import pandas as pd\n",
    "from sqlalchemy import create_engine\n",
    "import urllib\n",
    "import pyodbc\n",
    "\n",
    "def insert_data_to_sql(data, table_name, schema_name):\n",
    "    server = 'BRARJ2DBSQL01' \n",
    "    database = 'DIGITAL_PH_DEV' \n",
    "    username = 'BRAXCARPH1' \n",
    "    password = 'yKla2dJaG4wmVmK3zrJ$'\n",
    "    quoted = urllib.parse.quote_plus('DRIVER={ODBC Driver 17 for SQL Server};SERVER=BRARJ2DBSQL01;DATABASE=DIGITAL_PH_DEV;UID='+username+';PWD='+ password)\n",
    "    engine = create_engine('mssql+pyodbc:///?odbc_connect={}'.format(quoted))\n",
    "    data.to_sql(table_name, schema=schema_name, con = engine, if_exists='replace', index=False)\n",
    "    print('Upload of {} to {} schema: {} completed'.format(table_name, database, schema_name))\n",
    "\n",
    "table_n = 'last_month_clientlist'    \n",
    "    \n",
    "#CHILE\n",
    "cl_old = pd.read_excel(r'C:\\Users\\b4cy01\\OneDrive - Linde Group\\001 - Customer At Risk\\Chile\\PowerApp_Files\\car_cl_clientes.xlsx')\n",
    "schema_n = 'car_cl'\n",
    "try:\n",
    "    insert_data_to_sql(cl_old, table_n, schema_n)\n",
    "except:\n",
    "    print('Upload of {} to {} schema: {} FAILED'.format(table_n, 'DIGITAL_PH_DEV', schema_n))\n",
    "\n",
    "#ARGENTINA\n",
    "ar_old = pd.read_excel(r'C:\\Users\\b4cy01\\OneDrive - Linde Group\\001 - Customer At Risk\\Argentina\\PowerApp_Files\\car_ar_clientes.xlsx')\n",
    "schema_n = 'car_ar'\n",
    "try:\n",
    "    insert_data_to_sql(ar_old, table_n, schema_n)\n",
    "except:\n",
    "    print('Upload of {} to {} schema: {} FAILED'.format(table_n, 'DIGITAL_PH_DEV', schema_n))\n",
    "    \n",
    "#PERU\n",
    "pe_old = pd.read_excel(r'C:\\Users\\b4cy01\\OneDrive - Linde Group\\001 - Customer At Risk\\Peru\\PowerApp_Files\\car_pe_clientes.xlsx')\n",
    "schema_n = 'car_pe'\n",
    "try:\n",
    "    insert_data_to_sql(pe_old, table_n, schema_n)\n",
    "except:\n",
    "    print('Upload of {} to {} schema: {} FAILED'.format(table_n, 'DIGITAL_PH_DEV', schema_n))\n",
    "\n",
    "#BOLIVIA\n",
    "bo_old = pd.read_excel(r'C:\\Users\\b4cy01\\OneDrive - Linde Group\\001 - Customer At Risk\\Bolivia\\PowerApp_Files\\car_bo_clientes.xlsx')\n",
    "schema_n = 'car_bo'\n",
    "try:\n",
    "    insert_data_to_sql(bo_old, table_n, schema_n)\n",
    "except:\n",
    "    print('Upload of {} to {} schema: {} FAILED'.format(table_n, 'DIGITAL_PH_DEV', schema_n))\n",
    "\n",
    "#PARAGUAY\n",
    "py_old = pd.read_excel(r'C:\\Users\\b4cy01\\OneDrive - Linde Group\\001 - Customer At Risk\\Paraguay\\PowerApp_Files\\car_py_clientes.xlsx')\n",
    "schema_n = 'car_py'\n",
    "try:\n",
    "    insert_data_to_sql(py_old, table_n, schema_n)\n",
    "except:\n",
    "    print('Upload of {} to {} schema: {} FAILED'.format(table_n, 'DIGITAL_PH_DEV', schema_n))\n",
    "\n",
    "#URUGUAY\n",
    "uy_old = pd.read_excel(r'C:\\Users\\b4cy01\\OneDrive - Linde Group\\001 - Customer At Risk\\Uruguay\\PowerApp_Files\\car_uy_clientes.xlsx')\n",
    "schema_n = 'car_uy'\n",
    "try:\n",
    "    insert_data_to_sql(uy_old, table_n, schema_n)\n",
    "except:\n",
    "    print('Upload of {} to {} schema: {} FAILED'.format(table_n, 'DIGITAL_PH_DEV', schema_n))"
   ]
  },
  {
   "cell_type": "code",
   "execution_count": null,
   "metadata": {},
   "outputs": [],
   "source": []
  }
 ],
 "metadata": {
  "interpreter": {
   "hash": "2c9c5136a3c5a0c62670ced0016aae5622b31ce9f27e0b9078f48dd6d4a00a36"
  },
  "kernelspec": {
   "display_name": "Python 3.8.5 ('car_env')",
   "language": "python",
   "name": "python3"
  },
  "language_info": {
   "codemirror_mode": {
    "name": "ipython",
    "version": 3
   },
   "file_extension": ".py",
   "mimetype": "text/x-python",
   "name": "python",
   "nbconvert_exporter": "python",
   "pygments_lexer": "ipython3",
   "version": "3.8.5"
  }
 },
 "nbformat": 4,
 "nbformat_minor": 4
}
