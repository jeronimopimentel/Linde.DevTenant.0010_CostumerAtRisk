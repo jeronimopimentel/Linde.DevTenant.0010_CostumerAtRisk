{
 "cells": [
  {
   "cell_type": "code",
   "execution_count": 1,
   "metadata": {},
   "outputs": [
    {
     "name": "stderr",
     "output_type": "stream",
     "text": [
      "C:\\Users\\AR12BC\\AppData\\Local\\Temp\\ipykernel_11436\\3421496761.py:20: FutureWarning: Inferring datetime64[ns] from data containing strings is deprecated and will be removed in a future version. To retain the old behavior explicitly pass Series(data, dtype={value.dtype})\n",
      "  cl_old = pd.read_excel(r'C:\\Users\\ar12bc\\OneDrive - Linde Group\\001 - Customer At Risk\\Chile\\PowerApp_Files\\car_cl_clientes.xlsx')\n"
     ]
    },
    {
     "name": "stdout",
     "output_type": "stream",
     "text": [
      "Upload of last_month_clientlist to DIGITAL_PH_DEV schema: car_cl completed\n",
      "Upload of last_month_clientlist to DIGITAL_PH_DEV schema: car_ar completed\n",
      "Upload of last_month_clientlist to DIGITAL_PH_DEV schema: car_pe completed\n",
      "Upload of last_month_clientlist to DIGITAL_PH_DEV schema: car_bo completed\n",
      "Upload of last_month_clientlist to DIGITAL_PH_DEV schema: car_py FAILED\n"
     ]
    },
    {
     "name": "stderr",
     "output_type": "stream",
     "text": [
      "C:\\Users\\AR12BC\\AppData\\Local\\Temp\\ipykernel_11436\\3421496761.py:61: FutureWarning: Inferring datetime64[ns] from data containing strings is deprecated and will be removed in a future version. To retain the old behavior explicitly pass Series(data, dtype={value.dtype})\n",
      "  uy_old = pd.read_excel(r'C:\\Users\\ar12bc\\OneDrive - Linde Group\\001 - Customer At Risk\\Uruguay\\PowerApp_Files\\car_uy_clientes.xlsx')\n"
     ]
    },
    {
     "name": "stdout",
     "output_type": "stream",
     "text": [
      "Upload of last_month_clientlist to DIGITAL_PH_DEV schema: car_uy completed\n"
     ]
    }
   ],
   "source": [
    "# Libraries\n",
    "import pandas as pd\n",
    "from sqlalchemy import create_engine\n",
    "import urllib\n",
    "import pyodbc\n",
    "\n",
    "def insert_data_to_sql(data, table_name, schema_name):\n",
    "    server = 'BRARJ2DBSQL01' \n",
    "    database = 'DIGITAL_PH_DEV' \n",
    "    username = 'BRAXCARPH1' \n",
    "    password = 'yKla2dJaG4wmVmK3zrJ$'\n",
    "    quoted = urllib.parse.quote_plus('DRIVER={ODBC Driver 17 for SQL Server};SERVER=BRARJ2DBSQL01;DATABASE=DIGITAL_PH_DEV;UID='+username+';PWD='+ password)\n",
    "    engine = create_engine('mssql+pyodbc:///?odbc_connect={}'.format(quoted))\n",
    "    data.to_sql(table_name, schema=schema_name, con = engine, if_exists='replace', index=False)\n",
    "    print('Upload of {} to {} schema: {} completed'.format(table_name, database, schema_name))\n",
    "\n",
    "table_n = 'last_month_clientlist'    \n",
    "    \n",
    "#CHILE \n",
    "cl_old = pd.read_excel(r'C:\\Users\\ar12bc\\OneDrive - Linde Group\\001 - Customer At Risk\\Chile\\PowerApp_Files\\car_cl_clientes.xlsx')\n",
    "schema_n = 'car_cl'\n",
    "try:\n",
    "    insert_data_to_sql(cl_old, table_n, schema_n)\n",
    "except:\n",
    "    print('Upload of {} to {} schema: {} FAILED'.format(table_n, 'DIGITAL_PH_DEV', schema_n))\n",
    "\n",
    "#ARGENTINA\n",
    "ar_old = pd.read_excel(r'C:\\Users\\ar12bc\\OneDrive - Linde Group\\001 - Customer At Risk\\Argentina\\PowerApp_Files\\car_ar_clientes.xlsx')\n",
    "schema_n = 'car_ar'\n",
    "try:\n",
    "    insert_data_to_sql(ar_old, table_n, schema_n)\n",
    "except:\n",
    "    print('Upload of {} to {} schema: {} FAILED'.format(table_n, 'DIGITAL_PH_DEV', schema_n))\n",
    "    \n",
    "#PERU\n",
    "pe_old = pd.read_excel(r'C:\\Users\\ar12bc\\OneDrive - Linde Group\\001 - Customer At Risk\\Peru\\PowerApp_Files\\car_pe_clientes.xlsx')\n",
    "schema_n = 'car_pe'\n",
    "try:\n",
    "    insert_data_to_sql(pe_old, table_n, schema_n)\n",
    "except:\n",
    "    print('Upload of {} to {} schema: {} FAILED'.format(table_n, 'DIGITAL_PH_DEV', schema_n))\n",
    "\n",
    "\n",
    "#BOLIVIA\n",
    "bo_old = pd.read_excel(r'C:\\Users\\ar12bc\\OneDrive - Linde Group\\001 - Customer At Risk\\Bolivia\\PowerApp_Files\\car_bo_clientes.xlsx')\n",
    "schema_n = 'car_bo'\n",
    "try:\n",
    "    insert_data_to_sql(bo_old, table_n, schema_n)\n",
    "except:\n",
    "    print('Upload of {} to {} schema: {} FAILED'.format(table_n, 'DIGITAL_PH_DEV', schema_n))\n",
    "\n",
    "#PARAGUAY\n",
    "py_old = pd.read_excel(r'C:\\Users\\ar12bc\\OneDrive - Linde Group\\001 - Customer At Risk\\Paraguay\\PowerApp_Files\\car_py_clientes.xlsx')\n",
    "schema_n = 'car_py'\n",
    "try:\n",
    "    insert_data_to_sql(py_old, table_n, schema_n)\n",
    "except:\n",
    "    print('Upload of {} to {} schema: {} FAILED'.format(table_n, 'DIGITAL_PH_DEV', schema_n))\n",
    "\n",
    "#URUGUAY\n",
    "uy_old = pd.read_excel(r'C:\\Users\\ar12bc\\OneDrive - Linde Group\\001 - Customer At Risk\\Uruguay\\PowerApp_Files\\car_uy_clientes.xlsx')\n",
    "schema_n = 'car_uy'\n",
    "try:\n",
    "    insert_data_to_sql(uy_old, table_n, schema_n)\n",
    "except:\n",
    "    print('Upload of {} to {} schema: {} FAILED'.format(table_n, 'DIGITAL_PH_DEV', schema_n)) \n"
   ]
  },
  {
   "cell_type": "code",
   "execution_count": null,
   "metadata": {},
   "outputs": [],
   "source": []
  }
 ],
 "metadata": {
  "kernelspec": {
   "display_name": "Python 3.9.7 ('base')",
   "language": "python",
   "name": "python3"
  },
  "language_info": {
   "codemirror_mode": {
    "name": "ipython",
    "version": 3
   },
   "file_extension": ".py",
   "mimetype": "text/x-python",
   "name": "python",
   "nbconvert_exporter": "python",
   "pygments_lexer": "ipython3",
   "version": "3.9.7"
  },
  "vscode": {
   "interpreter": {
    "hash": "ad2bdc8ecc057115af97d19610ffacc2b4e99fae6737bb82f5d7fb13d2f2c186"
   }
  }
 },
 "nbformat": 4,
 "nbformat_minor": 4
}
